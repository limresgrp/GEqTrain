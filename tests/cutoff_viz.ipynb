{
 "cells": [
  {
   "cell_type": "code",
   "execution_count": 2,
   "metadata": {},
   "outputs": [],
   "source": [
    "from geqtrain.nn.cutoffs import *\n",
    "import matplotlib.pyplot as plt\n",
    "import torch"
   ]
  },
  {
   "cell_type": "code",
   "execution_count": null,
   "metadata": {},
   "outputs": [],
   "source": [
    "# Define range of x values\n",
    "x = torch.linspace(0, 20.0, 500)  # Normalized distance (x / r_max)\n",
    "r_max = torch.tensor(12.0) # angstrom\n",
    "p = 6.0\n",
    "n = 6.0\n",
    "\n",
    "# Compute cutoff values\n",
    "poly_values = polynomial_cutoff(x, r_max, p=p).squeeze()\n",
    "tanh_values = tanh_cutoff(x, r_max, n=n).squeeze()\n",
    "\n",
    "\n",
    "plt.figure(figsize=(10, 5))\n",
    "plt.ylim(bottom=-0.05, top=+1.05)\n",
    "plt.axvline(r_max, color='r', linestyle='--', label=f\"Cutoff radius (r_max={r_max})\")\n",
    "plt.title(\"Cutoff Functions\")\n",
    "plt.xlabel(\"x / r_max\")\n",
    "plt.ylabel(\"Cutoff Value\")\n",
    "plt.grid()\n",
    "\n",
    "plt.plot(x.numpy(), poly_values.numpy(), label=f\"Polynomial Cutoff (p={p})\")\n",
    "plt.plot(x.numpy(), tanh_values.numpy(), label=\"Tanh Cutoff (p={p})\")\n",
    "plt.legend()\n"
   ]
  }
 ],
 "metadata": {
  "kernelspec": {
   "display_name": "rdkit_pyg_geqm9_clone",
   "language": "python",
   "name": "python3"
  },
  "language_info": {
   "codemirror_mode": {
    "name": "ipython",
    "version": 3
   },
   "file_extension": ".py",
   "mimetype": "text/x-python",
   "name": "python",
   "nbconvert_exporter": "python",
   "pygments_lexer": "ipython3",
   "version": "3.10.14"
  }
 },
 "nbformat": 4,
 "nbformat_minor": 2
}
