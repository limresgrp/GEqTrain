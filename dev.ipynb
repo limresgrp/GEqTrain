{
 "cells": [
  {
   "cell_type": "code",
   "execution_count": 28,
   "metadata": {},
   "outputs": [],
   "source": [
    "import numpy as np\n",
    "\n",
    "class QM9NpzWriter():\n",
    "    def __init__(self, npz_path: str, standardize_targets: bool = False):\n",
    "        '''\n",
    "        code readapted from: https://docs.dgl.ai/en/0.8.x/_modules/dgl/data/qm9.html\n",
    "        urls: https://data.dgl.ai/dataset/qm9_eV.npz or https://github.com/gasteigerjo/dimenet/blob/master/data/qm9_eV.npz\n",
    "        130,831 molecules with 12 regression targets\n",
    "\n",
    "        available targets:\n",
    "        +--------+----------------------------------+-----------------------------------------------------------------------------------+---------------------------------------------+\n",
    "        | Keys   | Property                         | Description                                                                       | Unit                                        |\n",
    "        +========+==================================+===================================================================================+=============================================+\n",
    "        | mu     | :math:`\\mu`                      | Dipole moment                                                                     | :math:`\\textrm{D}`                          |\n",
    "        +--------+----------------------------------+-----------------------------------------------------------------------------------+---------------------------------------------+\n",
    "        | alpha  | :math:`\\alpha`                   | Isotropic polarizability                                                          | :math:`{a_0}^3`                             |\n",
    "        +--------+----------------------------------+-----------------------------------------------------------------------------------+---------------------------------------------+\n",
    "        | homo   | :math:`\\epsilon_{\\textrm{HOMO}}` | Highest occupied molecular orbital energy                                         | :math:`\\textrm{eV}`                         |\n",
    "        +--------+----------------------------------+-----------------------------------------------------------------------------------+---------------------------------------------+\n",
    "        | lumo   | :math:`\\epsilon_{\\textrm{LUMO}}` | Lowest unoccupied molecular orbital energy                                        | :math:`\\textrm{eV}`                         |\n",
    "        +--------+----------------------------------+-----------------------------------------------------------------------------------+---------------------------------------------+\n",
    "        | gap    | :math:`\\Delta \\epsilon`          | Gap between :math:`\\epsilon_{\\textrm{HOMO}}` and :math:`\\epsilon_{\\textrm{LUMO}}` | :math:`\\textrm{eV}`                         |\n",
    "        +--------+----------------------------------+-----------------------------------------------------------------------------------+---------------------------------------------+\n",
    "        | r2     | :math:`\\langle R^2 \\rangle`      | Electronic spatial extent                                                         | :math:`{a_0}^2`                             |\n",
    "        +--------+----------------------------------+-----------------------------------------------------------------------------------+---------------------------------------------+\n",
    "        | zpve   | :math:`\\textrm{ZPVE}`            | Zero point vibrational energy                                                     | :math:`\\textrm{eV}`                         |\n",
    "        +--------+----------------------------------+-----------------------------------------------------------------------------------+---------------------------------------------+\n",
    "        | U0     | :math:`U_0`                      | Internal energy at 0K                                                             | :math:`\\textrm{eV}`                         |\n",
    "        +--------+----------------------------------+-----------------------------------------------------------------------------------+---------------------------------------------+\n",
    "        | U      | :math:`U`                        | Internal energy at 298.15K                                                        | :math:`\\textrm{eV}`                         |\n",
    "        +--------+----------------------------------+-----------------------------------------------------------------------------------+---------------------------------------------+\n",
    "        | H      | :math:`H`                        | Enthalpy at 298.15K                                                               | :math:`\\textrm{eV}`                         |\n",
    "        +--------+----------------------------------+-----------------------------------------------------------------------------------+---------------------------------------------+\n",
    "        | G      | :math:`G`                        | Free energy at 298.15K                                                            | :math:`\\textrm{eV}`                         |\n",
    "        +--------+----------------------------------+-----------------------------------------------------------------------------------+---------------------------------------------+\n",
    "        | Cv     | :math:`c_{\\textrm{v}}`           | Heat capavity at 298.15K                                                          | :math:`\\frac{\\textrm{cal}}{\\textrm{mol K}}` |\n",
    "        +--------+----------------------------------+-----------------------------------------------------------------------------------+---------------------------------------------+\n",
    "\n",
    "        '''\n",
    "        self.npz_path = npz_path # downloadable from via code as in https://github.com/dmlc/dgl/blob/3edc19528cc5b893a35c9ad2f1a6790e98b9dd95/python/dgl/data/utils.py#L110\n",
    "        self.data_dict = np.load(npz_path, allow_pickle=True)\n",
    "        self.label_keys = list([\"mu\",\"alpha\",\"homo\",\"lumo\",\"gap\",\"r2\",\"zpve\",\"U0\",\"U\",\"H\",\"G\",\"Cv\"]) # all labels in R\n",
    "        self.standardize_targets = standardize_targets\n",
    "\n",
    "        self.N = self.data_dict['N'] # n nodi in g\n",
    "        self.R = self.data_dict['R'] # 3d coords\n",
    "        self.Z = self.data_dict['Z'] # atom number\n",
    "\n",
    "        self.label = np.stack([self.data_dict[key] for key in self.label_keys], axis=1) # shape: (n_mols: 130831, n_labels: 12)\n",
    "        if standardize_targets:\n",
    "            self.label = self._standardize_targets(self.label)\n",
    "\n",
    "        self.N_cumsum = np.concatenate([[0], np.cumsum(self.N)])\n",
    "\n",
    "        # Create a dictionary for mapping\n",
    "        # TODO forward_mapping/inverse_mapping have to be computed on the fly, here are ad-hoc for qm9\n",
    "        self.forward_mapping = {1: 0, 6: 1, 7: 2, 8: 3, 9: 4} # atoms: {'H':0, 'C':1, 'N':2, 'O':3, 'F':4}\n",
    "        self.inverse_mapping = {v:k for k,v in self.forward_mapping.items()}\n",
    "\n",
    "\n",
    "    @property\n",
    "    def labels_ordering(self):\n",
    "        return self.label_keys\n",
    "\n",
    "    @property\n",
    "    def describe(self):\n",
    "        data = self.label\n",
    "        # Calculate descriptive statistics\n",
    "        min_vals = np.min(data, axis=0)\n",
    "        max_vals = np.max(data, axis=0)\n",
    "        mean_vals = np.mean(data, axis=0)\n",
    "        std_vals = np.std(data, axis=0)\n",
    "        median_vals = np.median(data, axis=0)\n",
    "        var_vals = np.var(data, axis=0)\n",
    "        percentile_25_vals = np.percentile(data, 25, axis=0)\n",
    "        percentile_75_vals = np.percentile(data, 75, axis=0)\n",
    "\n",
    "        # Print the results\n",
    "        print(\"Descriptive statistics for each column:\")\n",
    "        for i in range(data.shape[1]):\n",
    "            print(f\"Column {self.label_keys[i]}:\")\n",
    "            print(f\"  Min: {min_vals[i]}\")\n",
    "            print(f\"  Max: {max_vals[i]}\")\n",
    "            print(f\"  Mean: {mean_vals[i]}\")\n",
    "            print(f\"  Std Dev: {std_vals[i]}\")\n",
    "            print(f\"  Median: {median_vals[i]}\")\n",
    "            print(f\"  Variance: {var_vals[i]}\")\n",
    "            print(f\"  25th Percentile: {percentile_25_vals[i]}\")\n",
    "            print(f\"  75th Percentile: {percentile_75_vals[i]}\")\n",
    "            print()  # Blank line for readability\n",
    "\n",
    "    def save_npz(self, folder_name = None, N = None):\n",
    "\n",
    "        assert folder_name, f\"{folder_name} must be provided\"\n",
    "\n",
    "        N = N if N else self.__len__()\n",
    "        for idx in range(N):\n",
    "            mol = self.__getitem__(idx)\n",
    "            file = f'{folder_name}/mol_{idx}'\n",
    "            # these are the kwords used in the npz\n",
    "            # - coords\n",
    "            # - atom_types\n",
    "            # - graph_labels\n",
    "            np.savez(file, coords=mol['pos'], atom_types=mol['atom_types'], graph_labels=mol['label'])\n",
    "\n",
    "    @property\n",
    "    def avg_num_atoms(self):\n",
    "        return sum(self.N)/len(self.N)\n",
    "\n",
    "    @property\n",
    "    def atom_types(self):\n",
    "        return set(self.Z)\n",
    "\n",
    "    @property\n",
    "    def unique_atom_types(self):\n",
    "        return len(self.atom_types)\n",
    "\n",
    "    @property\n",
    "    def max_num_nodes(self):\n",
    "        return max(self.N )\n",
    "\n",
    "    def __len__(self):\n",
    "        r\"\"\"Number of graphs in the dataset.\n",
    "\n",
    "        Return\n",
    "        -------\n",
    "        int\n",
    "        \"\"\"\n",
    "        return self.label.shape[0]\n",
    "\n",
    "    def map_values(self, arr, map):\n",
    "        '''\n",
    "        shifts atoming nubmers wrt map=self.mapping\n",
    "        invertible via map=self.inverse_mapping\n",
    "        eg\n",
    "        dset = instance of self\n",
    "        inpt = dset[0]['atom_types'] # array([6, 1, 1, 1, 1])\n",
    "        out = dset.map_values(inpt, dset.forward_mapping) # array([1, 0, 0, 0, 0])\n",
    "        reverted = dset.map_values(out, dset.inverse_mapping) # array([6, 1, 1, 1, 1])\n",
    "        '''\n",
    "\n",
    "        # Use np.vectorize to apply the mapping\n",
    "        vectorized_map = np.vectorize(map.get)\n",
    "\n",
    "        # Apply the vectorized mapping function to the array\n",
    "        return vectorized_map(arr)\n",
    "\n",
    "    def get_means_and_stds(self):\n",
    "        assert not self.standardize_targets\n",
    "        np.set_printoptions(suppress=True, precision=5)\n",
    "\n",
    "        return {\n",
    "            'means': np.mean(self.label, axis=0),\n",
    "            'stds' : np.std(self.label,  axis=0),\n",
    "        }\n",
    "\n",
    "\n",
    "    def _standardize_targets(self, arr):\n",
    "\n",
    "        assert self.standardize_targets\n",
    "\n",
    "        # Calculate the mean and standard deviation for each column\n",
    "        means = np.mean(arr, axis=0)\n",
    "        stds  = np.std(arr,  axis=0)\n",
    "\n",
    "        # Standardize the columns\n",
    "        standardized_arr = (arr - means) / stds\n",
    "\n",
    "        return standardized_arr\n",
    "\n",
    "    def __getitem__(self, idx):\n",
    "        r\"\"\" Get graph and label by index\n",
    "\n",
    "        Parameters\n",
    "        ----------\n",
    "        idx : int\n",
    "            Item index\n",
    "\n",
    "        Returns\n",
    "        -------\n",
    "\n",
    "            The graph contains:\n",
    "\n",
    "            - ``ndata['R']``: the coordinates of each atom\n",
    "            - ``ndata['Z']``: the atomic number\n",
    "\n",
    "        Tensor\n",
    "            Property values of molecular graphs\n",
    "        \"\"\"\n",
    "        label = np.array(self.label[idx], dtype=np.dtype(np.float32))\n",
    "        label = np.expand_dims(label, axis=0)\n",
    "\n",
    "        R = self.R[self.N_cumsum[idx]:self.N_cumsum[idx + 1]]\n",
    "        R_ = np.array(R, dtype=np.dtype(np.float32))\n",
    "        R_ = np.expand_dims(R_, axis=0)\n",
    "\n",
    "        Z_ = np.array(self.Z[self.N_cumsum[idx]:self.N_cumsum[idx + 1]], dtype=np.dtype(np.int32))\n",
    "        Z_out = self.map_values(Z_, self.forward_mapping)\n",
    "        assert all(Z_ == self.map_values(Z_out, self.inverse_mapping))\n",
    "\n",
    "        return {'pos': R_, 'atom_types':Z_out, 'label':label} # look at save_npz for naming"
   ]
  },
  {
   "cell_type": "code",
   "execution_count": 29,
   "metadata": {},
   "outputs": [
    {
     "data": {
      "text/plain": [
       "18.02485649425595"
      ]
     },
     "execution_count": 29,
     "metadata": {},
     "output_type": "execute_result"
    }
   ],
   "source": [
    "dset = QM9NpzWriter(npz_path = \"/storage_common/nobilm/qm_npz/qm9_eV.npz\")\n",
    "dset.avg_num_atoms"
   ]
  },
  {
   "cell_type": "code",
   "execution_count": 3,
   "metadata": {},
   "outputs": [
    {
     "data": {
      "text/plain": [
       "['mu', 'alpha', 'homo', 'lumo', 'gap', 'r2', 'zpve', 'U0', 'U', 'H', 'G', 'Cv']"
      ]
     },
     "execution_count": 3,
     "metadata": {},
     "output_type": "execute_result"
    }
   ],
   "source": [
    "dset.labels_ordering"
   ]
  },
  {
   "cell_type": "code",
   "execution_count": 16,
   "metadata": {},
   "outputs": [
    {
     "data": {
      "text/plain": [
       "{'means': array([   2.68217,   75.27049,   -6.53506,    0.32208,    6.85714,\n",
       "        1189.45373,    4.05464,  -76.07714,  -76.54132,  -76.97889,\n",
       "         -70.79997,   31.61686]),\n",
       " 'stds': array([  1.49739,   8.16319,   0.59892,   1.27434,   1.28578, 280.20662,\n",
       "          0.90042,  10.31253,  10.40401,  10.47797,   9.4881 ,   4.05487])}"
      ]
     },
     "execution_count": 16,
     "metadata": {},
     "output_type": "execute_result"
    }
   ],
   "source": [
    "dset.get_means_and_stds()"
   ]
  },
  {
   "cell_type": "code",
   "execution_count": 18,
   "metadata": {},
   "outputs": [
    {
     "name": "stdout",
     "output_type": "stream",
     "text": [
      "Descriptive statistics for each column:\n",
      "Column mu:\n",
      "  Min: 0.0\n",
      "  Max: 29.5564\n",
      "  Mean: 2.6821669611942323\n",
      "  Std Dev: 1.4973867265852865\n",
      "  Median: 2.4818\n",
      "  Variance: 2.2421670089537997\n",
      "  25th Percentile: 1.5803\n",
      "  75th Percentile: 3.6121\n",
      "\n",
      "Column alpha:\n",
      "  Min: 6.31\n",
      "  Max: 196.62\n",
      "  Mean: 75.2704936138988\n",
      "  Std Dev: 8.163193599559367\n",
      "  Median: 75.58\n",
      "  Variance: 66.63772974388702\n",
      "  25th Percentile: 70.49\n",
      "  75th Percentile: 80.58\n",
      "\n",
      "Column homo:\n",
      "  Min: -11.6628000500438\n",
      "  Max: -2.7673979586781488\n",
      "  Mean: -6.535062266032155\n",
      "  Std Dev: 0.5989174846850798\n",
      "  Median: -6.560665170474943\n",
      "  Variance: 0.35870215346150275\n",
      "  25th Percentile: -6.873596109755166\n",
      "  75th Percentile: -6.225965122375225\n",
      "\n",
      "Column lumo:\n",
      "  Min: -4.761992554264268\n",
      "  Max: 5.265403195715062\n",
      "  Mean: 0.3220839659190958\n",
      "  Std Dev: 1.2743437525787005\n",
      "  Median: 0.345584602509464\n",
      "  Variance: 1.623951999736364\n",
      "  25th Percentile: -0.63130415576532\n",
      "  75th Percentile: 1.3796172714354193\n",
      "\n",
      "Column gap:\n",
      "  Min: 0.6694000961994342\n",
      "  Max: 16.928203245758862\n",
      "  Mean: 6.857144484845239\n",
      "  Std Dev: 1.2857769080432793\n",
      "  Median: 6.813731060501558\n",
      "  Variance: 1.6532222572573356\n",
      "  25th Percentile: 5.904870767287692\n",
      "  75th Percentile: 7.869532838247007\n",
      "\n",
      "Column r2:\n",
      "  Min: 19.0002\n",
      "  Max: 3374.7532\n",
      "  Mean: 1189.453734313724\n",
      "  Std Dev: 280.20661523403965\n",
      "  Median: 1147.3662\n",
      "  Variance: 78515.74722091715\n",
      "  25th Percentile: 1017.6686\n",
      "  75th Percentile: 1308.9143\n",
      "\n",
      "Column zpve:\n",
      "  Min: 0.4340488184746819\n",
      "  Max: 7.454395933059261\n",
      "  Mean: 4.054636620775506\n",
      "  Std Dev: 0.9004152351619198\n",
      "  Median: 4.042822833026266\n",
      "  Variance: 0.8107475957116953\n",
      "  25th Percentile: 3.4189609913386105\n",
      "  75th Percentile: 4.661691385378449\n",
      "\n",
      "Column U0:\n",
      "  Min: -113.11313297906145\n",
      "  Max: -9.240360831996707\n",
      "  Mean: -76.07713768451465\n",
      "  Std Dev: 10.312533089943065\n",
      "  Median: -76.21090162706264\n",
      "  Variance: 106.34833873117064\n",
      "  25th Percentile: -82.70540231241903\n",
      "  75th Percentile: -69.44436871561916\n",
      "\n",
      "Column U:\n",
      "  Min: -113.8919228470832\n",
      "  Max: -9.278810520448737\n",
      "  Mean: -76.54131988679416\n",
      "  Std Dev: 10.404014372327032\n",
      "  Median: -76.67774016569669\n",
      "  Variance: 108.24351505958745\n",
      "  25th Percentile: -83.23377940054881\n",
      "  75th Percentile: -69.84478426096913\n",
      "\n",
      "Column H:\n",
      "  Min: -114.61171843019838\n",
      "  Max: -9.330212828648918\n",
      "  Mean: -76.97889278618644\n",
      "  Std Dev: 10.477973130051874\n",
      "  Median: -77.11339445594665\n",
      "  Variance: 109.78792091408906\n",
      "  25th Percentile: -83.71483588838026\n",
      "  75th Percentile: -70.23439688606612\n",
      "\n",
      "Column G:\n",
      "  Min: -104.81640859162471\n",
      "  Max: -8.73384809253915\n",
      "  Mean: -70.79996776039555\n",
      "  Std Dev: 9.488097815159067\n",
      "  Median: -70.93333494179677\n",
      "  Variance: 90.02400015002625\n",
      "  25th Percentile: -76.89809796972483\n",
      "  75th Percentile: -64.72436332999246\n",
      "\n",
      "Column Cv:\n",
      "  Min: 6.002\n",
      "  Max: 46.969\n",
      "  Mean: 31.616856723559255\n",
      "  Std Dev: 4.054869302100093\n",
      "  Median: 31.576\n",
      "  Variance: 16.441965057113702\n",
      "  25th Percentile: 28.965\n",
      "  75th Percentile: 34.283\n",
      "\n"
     ]
    }
   ],
   "source": [
    "dset.describe"
   ]
  },
  {
   "cell_type": "code",
   "execution_count": 20,
   "metadata": {},
   "outputs": [],
   "source": [
    "folder = \"/storage_common/nobilm/qm_npz/TEST_FULL_LABELS\"\n",
    "dset.save_npz(folder, 100)"
   ]
  },
  {
   "cell_type": "code",
   "execution_count": 17,
   "metadata": {},
   "outputs": [
    {
     "data": {
      "text/plain": [
       "(5, {1, 6, 7, 8, 9})"
      ]
     },
     "execution_count": 17,
     "metadata": {},
     "output_type": "execute_result"
    }
   ],
   "source": [
    "dset.unique_atom_types, dset.atom_types\n",
    "# {H 1, C 6, N 7, O 8, F 9})"
   ]
  },
  {
   "cell_type": "code",
   "execution_count": 1,
   "metadata": {},
   "outputs": [
    {
     "name": "stderr",
     "output_type": "stream",
     "text": [
      "/home/nobilm@usi.ch/miniconda3/envs/geqtrain/lib/python3.10/site-packages/tqdm/auto.py:21: TqdmWarning: IProgress not found. Please update jupyter and ipywidgets. See https://ipywidgets.readthedocs.io/en/stable/user_install.html\n",
      "  from .autonotebook import tqdm as notebook_tqdm\n",
      "/home/nobilm@usi.ch/miniconda3/envs/geqtrain/lib/python3.10/site-packages/torch/jit/_check.py:181: UserWarning: The TorchScript type system doesn't support instance-level annotations on empty non-base types in `__init__`. Instead, either 1) use a type annotation in the class body, or 2) wrap the type in `torch.jit.Attribute`.\n",
      "  warnings.warn(\"The TorchScript type system doesn't support \"\n",
      "INFO:geqtrain-evaluate:loaded model from training session.\n"
     ]
    }
   ],
   "source": [
    "from geqtrain.scripts.evaluate import load_model\n",
    "from pathlib import Path\n",
    "\n",
    "model, config = load_model(Path('/home/nobilm@usi.ch/GEqTrain/results/qm9_production_run/first_exp/best_model.pth'))"
   ]
  },
  {
   "cell_type": "code",
   "execution_count": 3,
   "metadata": {},
   "outputs": [
    {
     "name": "stdout",
     "output_type": "stream",
     "text": [
      "output_head.bias_ Parameter containing:\n",
      "tensor([ 2.6675e+00,  7.4217e+01, -6.6978e+00,  1.0421e-04,  6.6705e+00,\n",
      "         1.1883e+03,  2.6190e+00, -7.4520e+01, -7.4951e+01, -7.5494e+01,\n",
      "        -6.9551e+01,  3.1630e+01], requires_grad=True)\n"
     ]
    }
   ],
   "source": [
    "for n,v in model.named_parameters():\n",
    "    if n == \"output_head.bias_\":\n",
    "        print(n, v)"
   ]
  },
  {
   "cell_type": "markdown",
   "metadata": {},
   "source": [
    "# Evaluation"
   ]
  },
  {
   "cell_type": "code",
   "execution_count": 5,
   "metadata": {},
   "outputs": [],
   "source": [
    "import numpy as np\n",
    "ds = np.load(\"/storage_common/nobilm/qm_npz/test/mol_100000.npz\", allow_pickle=True)"
   ]
  },
  {
   "cell_type": "code",
   "execution_count": 7,
   "metadata": {},
   "outputs": [],
   "source": [
    "import torch\n",
    "from geqtrain.data import AtomicDataDict\n",
    "def prepare_dataset(dataset, r_max):\n",
    "    coords = torch.from_numpy(dataset.get(\"coords\"))\n",
    "    node_types = torch.from_numpy(dataset.get(\"atom_types\"))\n",
    "    batch = torch.zeros(coords.shape[-2], dtype=torch.long)\n",
    "\n",
    "    return [{\n",
    "        AtomicDataDict.POSITIONS_KEY: pos,\n",
    "        f\"{AtomicDataDict.POSITIONS_KEY}_slices\": torch.tensor([0, len(pos)]),\n",
    "        AtomicDataDict.NODE_TYPE_KEY: node_types,\n",
    "        AtomicDataDict.EDGE_INDEX_KEY: get_edge_index(positions=pos, r_max=r_max),\n",
    "        AtomicDataDict.BATCH_KEY: batch,\n",
    "    }\n",
    "    for pos in coords\n",
    "    ], dataset\n",
    "\n",
    "def get_edge_index(positions: torch.Tensor, r_max: float):\n",
    "    dist_matrix = torch.norm(positions[:, None, ...] - positions[None, ...], dim=-1).fill_diagonal_(torch.inf)\n",
    "    return torch.argwhere(dist_matrix <= r_max).T.long()"
   ]
  },
  {
   "cell_type": "code",
   "execution_count": 9,
   "metadata": {},
   "outputs": [],
   "source": [
    "batch, _= prepare_dataset(ds, r_max=50.0 )"
   ]
  },
  {
   "cell_type": "code",
   "execution_count": 17,
   "metadata": {},
   "outputs": [],
   "source": [
    "with torch.no_grad():\n",
    "    out = model(batch[0])"
   ]
  },
  {
   "cell_type": "code",
   "execution_count": 46,
   "metadata": {},
   "outputs": [
    {
     "name": "stdout",
     "output_type": "stream",
     "text": [
      "mu 463.5958671569824\n",
      "alpha 1.5829849243164062\n",
      "homo 281.6300392150879\n",
      "lumo 337.59403228759766\n",
      "gap 70.78933715820312\n",
      "r2 3.9703369140625\n",
      "zpve 4.011631011962891\n",
      "U0 644.47021484375\n",
      "U 655.9829711914062\n",
      "H 654.9530029296875\n",
      "G 652.9464721679688\n",
      "Cv 0.4727668762207031\n"
     ]
    }
   ],
   "source": [
    "mae_res = abs(out['graph_labels'] - ds['graph_labels'])\n",
    "for idx, k in enumerate(dset.labels_ordering):\n",
    "    if k in ['mu', 'homo', 'lumo', 'gap', 'zpve', 'U0', 'U', 'H', 'G']:\n",
    "        print(k, mae_res[:,idx].item() *1000)\n",
    "    else:\n",
    "        print(k, mae_res[:,idx].item())"
   ]
  }
 ],
 "metadata": {
  "kernelspec": {
   "display_name": "geqtrain",
   "language": "python",
   "name": "python3"
  },
  "language_info": {
   "codemirror_mode": {
    "name": "ipython",
    "version": 3
   },
   "file_extension": ".py",
   "mimetype": "text/x-python",
   "name": "python",
   "nbconvert_exporter": "python",
   "pygments_lexer": "ipython3",
   "version": "3.10.14"
  }
 },
 "nbformat": 4,
 "nbformat_minor": 2
}
