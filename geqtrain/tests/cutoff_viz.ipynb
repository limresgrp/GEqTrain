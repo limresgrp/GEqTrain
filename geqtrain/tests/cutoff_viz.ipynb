{
 "cells": [
  {
   "cell_type": "code",
   "execution_count": 2,
   "metadata": {},
   "outputs": [],
   "source": [
    "import matplotlib.pyplot as plt\n",
    "import torch\n",
    "from geqtrain.nn.cutoffs import polynomial_cutoff, tanh_cutoff"
   ]
  },
  {
   "cell_type": "code",
   "execution_count": null,
   "metadata": {},
   "outputs": [],
   "source": [
    "# Define range of x values, both x and r_max must be torch.tensor\n",
    "x = torch.linspace(0, 1.5, 500)  # Normalized distance (x / r_max)\n",
    "r_max = torch.tensor(1.0) # insert r_max from yaml here\n",
    "\n",
    "p = 6.0\n",
    "n = 6.0\n",
    "\n",
    "# Compute cutoff values\n",
    "poly_values = polynomial_cutoff(x, r_max, p=p).squeeze()\n",
    "tanh_values = tanh_cutoff(x, r_max, n=n).squeeze()\n",
    "\n",
    "# Plot Polynomial Cutoff\n",
    "plt.figure(figsize=(10, 5))\n",
    "plt.ylim(-.1, 1.1)\n",
    "plt.xlim(-.1, r_max+.1)\n",
    "plt.plot(x.numpy(), poly_values.numpy(), label=f\"Polynomial Cutoff (p={p})\")\n",
    "plt.plot(x.numpy(), tanh_values.numpy(), label=f\"Tanh Cutoff (n={n})\")\n",
    "plt.axvline(r_max, color='r', linestyle='--', label=f\"Cutoff radius (r_max:{r_max})\")\n",
    "\n",
    "plt.title(\"Cutoff Functions\")\n",
    "plt.xlabel(\"x / r_max\")\n",
    "plt.ylabel(\"Cutoff Value\")\n",
    "plt.legend()\n",
    "plt.grid()\n",
    "plt.show()"
   ]
  }
 ],
 "metadata": {
  "language_info": {
   "name": "python"
  }
 },
 "nbformat": 4,
 "nbformat_minor": 2
}
